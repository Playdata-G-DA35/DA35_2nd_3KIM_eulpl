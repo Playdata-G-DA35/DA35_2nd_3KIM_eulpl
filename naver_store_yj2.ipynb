{
 "cells": [
  {
   "cell_type": "code",
   "execution_count": 27,
   "metadata": {},
   "outputs": [
    {
     "name": "stdout",
     "output_type": "stream",
     "text": [
      "https://blog.naver.com/myongjin0103/223400910431\n",
      "친구들과 약속 있을 땐 합정이자카야 합정공감, https://blog.naver.com/halmong2/223401294130\n",
      "토끼정 : 홍대 데이트 일본가정식 맛집 메뉴 추천, 합정 모임 식당, https://blog.naver.com/blossomjinn/223401245768\n",
      "[마포-합정] 카이센동 맛집, 기요한, https://blog.naver.com/wjeong93/223401017496\n",
      "홍대 규카츠 맛집 후라토식당 상수직영점 방문후기, https://blog.naver.com/asdfzxcv9667/223400624125\n",
      "#마포주민의 망원뿌수기_ 망원 맛집_돈까스 맛집_육개장 맛집 : 헤키/육장, https://blog.naver.com/codud6789/223401087231\n",
      "봄의 왈츠, https://blog.naver.com/mealogue/223401395087\n",
      "March, 2024, https://blog.naver.com/myongjin0103/223400910431\n"
     ]
    }
   ],
   "source": [
    "import pandas as pd\n",
    "import asyncio\n",
    "import aiohttp\n",
    "import os\n",
    "from datetime import datetime, timedelta\n",
    "import pymysql\n",
    "import time\n",
    "import re\n",
    "from bs4 import BeautifulSoup\n",
    "from selenium import webdriver\n",
    "from selenium.webdriver.common.by import By\n",
    "from selenium.webdriver.chrome.service import Service\n",
    "from webdriver_manager.chrome import ChromeDriverManager\n",
    "import nest_asyncio\n",
    "#-------------------------------------------------------------------------------------------------------------------------------------------------------------------------------\n",
    "# user_agent 지정\n",
    "user_agent = 'Mozilla/5.0 (Windows NT 10.0; Win64; x64) AppleWebKit/537.36 (KHTML, like Gecko) Chrome/123.0.0.0 Safari/537.36'\n",
    "\n",
    "#-------------------------------------------------------------------------------------------------------------------------------------------------------------------------------\n",
    "# url 작성 함수\n",
    "def make_search_url(target_date, loc, category, page): # 선택날짜, 장소, 종류\n",
    "    # 키워드\n",
    "    date = target_date\n",
    "    loc = loc\n",
    "    food_catecory =  category\n",
    "\n",
    "    # url 조합\n",
    "    base_url = f'https://section.blog.naver.com/Search/Post.naver?pageNo={page}&rangeType=PERIOD&orderBy=sim&'\n",
    "    date = f'startDate={target_date}&endDate={target_date}&'\n",
    "    loc_cate = f'keyword=%23{loc}%20%23{food_catecory}'\n",
    "    url_layout = base_url + date + loc_cate\n",
    "\n",
    "    return url_layout\n",
    "\n",
    "#-------------------------------------------------------------------------------------------------------------------------------------------------------------------------------\n",
    "# URL 변수 지정 \n",
    "target_date = '2024-03-31'\n",
    "loc = '합정'\n",
    "category = '일식'\n",
    "page = 2\n",
    "url_layout = make_search_url(target_date, loc, category, page)\n",
    "\n",
    "print(url) # url 확인차 print\n",
    "#---------------------------------------------------------------------------------------------------------------------------------------------------------------------------------\n",
    "# title, url 추출\n",
    "sce = Service(executable_path=ChromeDriverManager().install())\n",
    "bws = webdriver.Chrome(service=sce)\n",
    "\n",
    "browser = bws.get(url_layout)\n",
    "\n",
    "ele_list = bws.find_elements(By.CSS_SELECTOR, \" a.desc_inner > strong > span\")\n",
    "\n",
    "elements = bws.find_elements(By.CSS_SELECTOR, \"a.desc_inner\")\n",
    "def ele_lst():\n",
    "    titles =[]\n",
    "    urls=[]\n",
    "    for ele in elements:\n",
    "        title = ele.find_element(By.CSS_SELECTOR, \"strong\").text\n",
    "        url = ele.get_attribute('href')\n",
    "        titles.append(title)\n",
    "        urls.append(url)\n",
    "    return titles, urls\n",
    "\n",
    "titles, urls = ele_lst()\n",
    "\n",
    "for i in range(len(titles)):\n",
    "    print(f\"{titles[i]}, {urls[i]}\")\n",
    "\n",
    "\n"
   ]
  }
 ],
 "metadata": {
  "kernelspec": {
   "display_name": "env",
   "language": "python",
   "name": "python3"
  },
  "language_info": {
   "codemirror_mode": {
    "name": "ipython",
    "version": 3
   },
   "file_extension": ".py",
   "mimetype": "text/x-python",
   "name": "python",
   "nbconvert_exporter": "python",
   "pygments_lexer": "ipython3",
   "version": "3.11.8"
  }
 },
 "nbformat": 4,
 "nbformat_minor": 2
}
