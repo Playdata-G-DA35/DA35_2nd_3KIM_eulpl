{
 "cells": [
  {
   "cell_type": "code",
   "execution_count": 4,
   "metadata": {},
   "outputs": [],
   "source": [
    "import pandas as pd\n",
    "import asyncio\n",
    "import aiohttp\n",
    "import os\n",
    "import pymysql\n",
    "import time\n",
    "import re\n",
    "from naver_method_ino import make_search_url\n",
    "\n",
    "from bs4 import BeautifulSoup\n",
    "from selenium import webdriver\n",
    "from selenium.webdriver.common.by import By\n",
    "from datetime import datetime, timedelta\n",
    "\n",
    "base_url = make_search_url('2024-03-31', '을지로', '한식', '1')\n",
    "\n",
    "# print(base_url)\n",
    "\n",
    "\n",
    "\n",
    "def get_page_info(target_url):\n",
    "    naver_driver = webdriver.Chrome()\n",
    "    print('open Chrome')\n",
    "    time.sleep(10)\n",
    "\n",
    "    naver_driver.get(target_url)\n",
    "    place_name = naver_driver.find_element(By.CSS_SELECTOR, 'div.se-module.se-module-map-text > a > strong.se-map-title')\n",
    "    place_address = naver_driver.find_element(By.CSS_SELECTOR, 'div.se-module.se-module-map-text > a > p.se-map-address')"
   ]
  },
  {
   "cell_type": "code",
   "execution_count": 23,
   "metadata": {},
   "outputs": [
    {
     "name": "stdout",
     "output_type": "stream",
     "text": [
      "open Chrome\n",
      "url get done\n",
      "<class 'list'>\n",
      "0\n",
      "[]\n"
     ]
    }
   ],
   "source": [
    "url = 'https://blog.naver.com/jasuk1/223400728539'\n",
    "\n",
    "naver_driver = webdriver.Chrome()\n",
    "print('open Chrome')\n",
    "naver_driver.get(url)\n",
    "print('url get done')\n",
    "time.sleep(3)\n",
    "\n",
    "html = naver_driver.page_source\n",
    "# print(html[:1000])\n",
    "\n",
    "place_name = naver_driver.find_elements(By.CSS_SELECTOR, '#blog-menu > div > table > tbody > tr > td.menu1 > ul > li:nth-child(2) > a')\n",
    "# #SE-ddce372e-1590-4f60-ae20-fc6e6e91c128 > div > div > div.se-module.se-module-map-text > a > strong\n",
    "print(type(place_name))\n",
    "print(len(place_name))\n",
    "print(place_name)\n",
    "\n",
    "# div.se-module.se-module-map-text > a > strong\n"
   ]
  },
  {
   "cell_type": "code",
   "execution_count": null,
   "metadata": {},
   "outputs": [],
   "source": [
    "# <strong class=\"se-map-title\">다원닭한마리 빈대떡</strong>"
   ]
  }
 ],
 "metadata": {
  "kernelspec": {
   "display_name": "env",
   "language": "python",
   "name": "python3"
  },
  "language_info": {
   "codemirror_mode": {
    "name": "ipython",
    "version": 3
   },
   "file_extension": ".py",
   "mimetype": "text/x-python",
   "name": "python",
   "nbconvert_exporter": "python",
   "pygments_lexer": "ipython3",
   "version": "3.11.8"
  }
 },
 "nbformat": 4,
 "nbformat_minor": 2
}
