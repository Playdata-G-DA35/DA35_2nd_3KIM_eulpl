{
 "cells": [
  {
   "cell_type": "code",
   "execution_count": 6,
   "metadata": {},
   "outputs": [
    {
     "name": "stdout",
     "output_type": "stream",
     "text": [
      "open chrome done\n",
      "select id done\n",
      "send id done\n",
      "select pw done\n",
      "send pw done\n",
      "submit done\n",
      "url get done\n",
      "select done\n",
      "go next done\n"
     ]
    }
   ],
   "source": [
    "import pymysql\n",
    "import time\n",
    "import re\n",
    "from bs4 import BeautifulSoup\n",
    "from selenium import webdriver\n",
    "from selenium.webdriver.common.by import By\n",
    "\n",
    "import login\n",
    "\n",
    "def make_keyword_url(word): # 검색어 url 생성\n",
    "    url = 'https://www.instagram.com/explore/tags/' + word\n",
    "    return url\n",
    "\n",
    "def select_first(driver): # 첫번재 게시물\n",
    "    first = driver.find_element(By.CSS_SELECTOR, 'div._aagu')\n",
    "    first.click()\n",
    "    print('select done')\n",
    "    time.sleep(1)\n",
    "\n",
    "def next_button(driver):\n",
    "    go_next = driver.find_element(By.CSS_SELECTOR, 'div._aaqg._aaqh')\n",
    "    go_next.click()\n",
    "    print('go next done')\n",
    "    time.sleep(1)\n",
    "\n",
    "insta_driver = login.insta_login()\n",
    "url1 = 'https://www.instagram.com/explore/locations/252696238731883/3/'\n",
    "url_e = make_keyword_url('을지로3가')\n",
    "\n",
    "### 첫번째 게시물 선택\n",
    "insta_driver.get(url1)\n",
    "print('url get done')\n",
    "time.sleep(15)\n",
    "\n",
    "select_first(insta_driver)\n",
    "\n",
    "#next_button(insta_driver)"
   ]
  }
 ],
 "metadata": {
  "kernelspec": {
   "display_name": "env01",
   "language": "python",
   "name": "python3"
  },
  "language_info": {
   "codemirror_mode": {
    "name": "ipython",
    "version": 3
   },
   "file_extension": ".py",
   "mimetype": "text/x-python",
   "name": "python",
   "nbconvert_exporter": "python",
   "pygments_lexer": "ipython3",
   "version": "3.11.8"
  }
 },
 "nbformat": 4,
 "nbformat_minor": 2
}
