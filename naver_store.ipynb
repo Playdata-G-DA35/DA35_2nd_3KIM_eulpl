{
 "cells": [
  {
   "cell_type": "code",
   "execution_count": 3,
   "metadata": {},
   "outputs": [
    {
     "name": "stdout",
     "output_type": "stream",
     "text": [
      "https://section.blog.naver.com/Search/Post.naver?pageNo=1&rangeType=PERIOD&orderBy=sim&startDate=2024-03-31&endDate=2024-03-31&keyword=%23합정%20%EB%A7%9B%EC%A7%91%20%23양식\n"
     ]
    }
   ],
   "source": [
    "import pandas as pd\n",
    "import asyncio\n",
    "import aiohttp\n",
    "import os\n",
    "import pymysql\n",
    "import time\n",
    "import re\n",
    "from bs4 import BeautifulSoup\n",
    "from selenium import webdriver\n",
    "from selenium.webdriver.common.by import By\n",
    "from datetime import datetime, timedelta\n",
    "\n",
    "# 날짜 함수\n",
    "def format_date(date):\n",
    "    return date.strftime('%Y-%m-%d')\n",
    "\n",
    "# 시작 날짜와 종료 날짜 설정\n",
    "start_date = datetime(2024, 3, 31)\n",
    "end_date = datetime(2024, 3, 31)\n",
    "\n",
    "# 날짜 형식 변환\n",
    "formatted_start_date = format_date(start_date)\n",
    "formatted_end_date = format_date(end_date)\n",
    "\n",
    "# 키워드\n",
    "loc = \"합정\"\n",
    "food_catecory =  \"양식\"\n",
    "\n",
    "# URL 생성\n",
    "url_layout = f\"https://section.blog.naver.com/Search/Post.naver?pageNo=1&rangeType=PERIOD&orderBy=sim&startDate={formatted_start_date}&endDate={formatted_end_date}&keyword=%23{loc}%20%EB%A7%9B%EC%A7%91%20%23{food_catecory}\"\n",
    "\n",
    "print(url_layout)\n",
    "\n",
    "\n",
    "\n",
    "\n"
   ]
  }
 ],
 "metadata": {
  "kernelspec": {
   "display_name": "env",
   "language": "python",
   "name": "python3"
  },
  "language_info": {
   "codemirror_mode": {
    "name": "ipython",
    "version": 3
   },
   "file_extension": ".py",
   "mimetype": "text/x-python",
   "name": "python",
   "nbconvert_exporter": "python",
   "pygments_lexer": "ipython3",
   "version": "3.11.8"
  }
 },
 "nbformat": 4,
 "nbformat_minor": 2
}
