{
 "cells": [
  {
   "cell_type": "code",
   "execution_count": 1,
   "metadata": {},
   "outputs": [
    {
     "ename": "AttributeError",
     "evalue": "'method_descriptor' object has no attribute 'today'",
     "output_type": "error",
     "traceback": [
      "\u001b[1;31m---------------------------------------------------------------------------\u001b[0m",
      "\u001b[1;31mAttributeError\u001b[0m                            Traceback (most recent call last)",
      "Cell \u001b[1;32mIn[1], line 24\u001b[0m\n\u001b[0;32m     15\u001b[0m     \u001b[38;5;28;01mreturn\u001b[39;00m date\u001b[38;5;241m.\u001b[39mstrftime(\u001b[38;5;124m'\u001b[39m\u001b[38;5;124m%\u001b[39m\u001b[38;5;124mY-\u001b[39m\u001b[38;5;124m%\u001b[39m\u001b[38;5;124mm-\u001b[39m\u001b[38;5;132;01m%d\u001b[39;00m\u001b[38;5;124m'\u001b[39m)\n\u001b[0;32m     17\u001b[0m \u001b[38;5;66;03m# 시작 날짜와 종료 날짜 설정\u001b[39;00m\n\u001b[0;32m     18\u001b[0m \u001b[38;5;66;03m# start_date = datetime(2024, 3, 31)\u001b[39;00m\n\u001b[0;32m     19\u001b[0m \u001b[38;5;66;03m# end_date = datetime(2024, 3, 31)\u001b[39;00m\n\u001b[1;32m   (...)\u001b[0m\n\u001b[0;32m     22\u001b[0m \u001b[38;5;66;03m# formatted_start_date = format_date(start_date)\u001b[39;00m\n\u001b[0;32m     23\u001b[0m \u001b[38;5;66;03m# formatted_end_date = format_date(end_date)\u001b[39;00m\n\u001b[1;32m---> 24\u001b[0m today \u001b[38;5;241m=\u001b[39m \u001b[43mdatetime\u001b[49m\u001b[38;5;241;43m.\u001b[39;49m\u001b[43mdate\u001b[49m\u001b[38;5;241;43m.\u001b[39;49m\u001b[43mtoday\u001b[49m()\n\u001b[0;32m     26\u001b[0m \u001b[38;5;66;03m# 키워드\u001b[39;00m\n\u001b[0;32m     27\u001b[0m loc \u001b[38;5;241m=\u001b[39m \u001b[38;5;124m\"\u001b[39m\u001b[38;5;124m합정\u001b[39m\u001b[38;5;124m\"\u001b[39m\n",
      "\u001b[1;31mAttributeError\u001b[0m: 'method_descriptor' object has no attribute 'today'"
     ]
    }
   ],
   "source": [
    "import pandas as pd\n",
    "import asyncio\n",
    "import aiohttp\n",
    "import os\n",
    "import pymysql\n",
    "import time\n",
    "import re\n",
    "from bs4 import BeautifulSoup\n",
    "from selenium import webdriver\n",
    "from selenium.webdriver.common.by import By\n",
    "from datetime import datetime, timedelta\n",
    "\n",
    "# 날짜 함수\n",
    "def format_date(date):\n",
    "    return date.strftime('%Y-%m-%d')\n",
    "\n",
    "# 시작 날짜와 종료 날짜 설정\n",
    "# start_date = datetime(2024, 3, 31)\n",
    "# end_date = datetime(2024, 3, 31)\n",
    "\n",
    "# # 날짜 형식 변환\n",
    "# formatted_start_date = format_date(start_date)\n",
    "# formatted_end_date = format_date(end_date)\n",
    "today = datetime.date.today()\n",
    "\n",
    "# 키워드\n",
    "loc = \"합정\"\n",
    "food_catecory =  \"양식\"\n",
    "\n",
    "# URL 생성\n",
    "url_layout = f\"https://section.blog.naver.com/Search/Post.naver?pageNo=1&rangeType=PERIOD&orderBy=sim&startDate={today}&endDate={today}&keyword=%23{loc}%20%EB%A7%9B%EC%A7%91%20%23{food_catecory}\"\n",
    "\n",
    "print(url_layout)\n",
    "\n",
    "\n",
    "\n",
    "\n"
   ]
  }
 ],
 "metadata": {
  "kernelspec": {
   "display_name": "env",
   "language": "python",
   "name": "python3"
  },
  "language_info": {
   "codemirror_mode": {
    "name": "ipython",
    "version": 3
   },
   "file_extension": ".py",
   "mimetype": "text/x-python",
   "name": "python",
   "nbconvert_exporter": "python",
   "pygments_lexer": "ipython3",
   "version": "3.11.8"
  }
 },
 "nbformat": 4,
 "nbformat_minor": 2
}
