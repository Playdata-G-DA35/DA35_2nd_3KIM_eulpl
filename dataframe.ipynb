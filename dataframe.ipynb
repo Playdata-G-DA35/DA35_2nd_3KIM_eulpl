{
 "cells": [
  {
   "cell_type": "code",
   "execution_count": 49,
   "metadata": {},
   "outputs": [
    {
     "name": "stdout",
     "output_type": "stream",
     "text": [
      "<class 'pymysql.connections.Connection'>\n",
      "<class 'pymysql.cursors.Cursor'>\n"
     ]
    },
    {
     "ename": "OperationalError",
     "evalue": "(1050, \"Table 'hongdae' already exists\")",
     "output_type": "error",
     "traceback": [
      "\u001b[1;31m---------------------------------------------------------------------------\u001b[0m",
      "\u001b[1;31mOperationalError\u001b[0m                          Traceback (most recent call last)",
      "Cell \u001b[1;32mIn[49], line 49\u001b[0m\n\u001b[0;32m     45\u001b[0m     \u001b[38;5;28mprint\u001b[39m(\u001b[38;5;28mtype\u001b[39m(cursor))\n\u001b[0;32m     47\u001b[0m     \u001b[38;5;66;03m# SQL문 전송 + 처리결과 받기\u001b[39;00m\n\u001b[1;32m---> 49\u001b[0m     result \u001b[38;5;241m=\u001b[39m \u001b[43mcursor\u001b[49m\u001b[38;5;241;43m.\u001b[39;49m\u001b[43mexecute\u001b[49m\u001b[43m(\u001b[49m\u001b[43mcreate_sql\u001b[49m\u001b[43m)\u001b[49m\n\u001b[0;32m     50\u001b[0m     \u001b[38;5;28mprint\u001b[39m(\u001b[38;5;124m\"\u001b[39m\u001b[38;5;124m처리결과\u001b[39m\u001b[38;5;124m\"\u001b[39m, result)\n\u001b[0;32m     51\u001b[0m \u001b[38;5;28;01mfinally\u001b[39;00m:\n\u001b[0;32m     52\u001b[0m \u001b[38;5;66;03m# 4. 연결닫기(끊기)\u001b[39;00m\n",
      "File \u001b[1;32mc:\\pjt\\env\\Lib\\site-packages\\pymysql\\cursors.py:153\u001b[0m, in \u001b[0;36mCursor.execute\u001b[1;34m(self, query, args)\u001b[0m\n\u001b[0;32m    149\u001b[0m     \u001b[38;5;28;01mpass\u001b[39;00m\n\u001b[0;32m    151\u001b[0m query \u001b[38;5;241m=\u001b[39m \u001b[38;5;28mself\u001b[39m\u001b[38;5;241m.\u001b[39mmogrify(query, args)\n\u001b[1;32m--> 153\u001b[0m result \u001b[38;5;241m=\u001b[39m \u001b[38;5;28;43mself\u001b[39;49m\u001b[38;5;241;43m.\u001b[39;49m\u001b[43m_query\u001b[49m\u001b[43m(\u001b[49m\u001b[43mquery\u001b[49m\u001b[43m)\u001b[49m\n\u001b[0;32m    154\u001b[0m \u001b[38;5;28mself\u001b[39m\u001b[38;5;241m.\u001b[39m_executed \u001b[38;5;241m=\u001b[39m query\n\u001b[0;32m    155\u001b[0m \u001b[38;5;28;01mreturn\u001b[39;00m result\n",
      "File \u001b[1;32mc:\\pjt\\env\\Lib\\site-packages\\pymysql\\cursors.py:322\u001b[0m, in \u001b[0;36mCursor._query\u001b[1;34m(self, q)\u001b[0m\n\u001b[0;32m    320\u001b[0m conn \u001b[38;5;241m=\u001b[39m \u001b[38;5;28mself\u001b[39m\u001b[38;5;241m.\u001b[39m_get_db()\n\u001b[0;32m    321\u001b[0m \u001b[38;5;28mself\u001b[39m\u001b[38;5;241m.\u001b[39m_clear_result()\n\u001b[1;32m--> 322\u001b[0m \u001b[43mconn\u001b[49m\u001b[38;5;241;43m.\u001b[39;49m\u001b[43mquery\u001b[49m\u001b[43m(\u001b[49m\u001b[43mq\u001b[49m\u001b[43m)\u001b[49m\n\u001b[0;32m    323\u001b[0m \u001b[38;5;28mself\u001b[39m\u001b[38;5;241m.\u001b[39m_do_get_result()\n\u001b[0;32m    324\u001b[0m \u001b[38;5;28;01mreturn\u001b[39;00m \u001b[38;5;28mself\u001b[39m\u001b[38;5;241m.\u001b[39mrowcount\n",
      "File \u001b[1;32mc:\\pjt\\env\\Lib\\site-packages\\pymysql\\connections.py:558\u001b[0m, in \u001b[0;36mConnection.query\u001b[1;34m(self, sql, unbuffered)\u001b[0m\n\u001b[0;32m    556\u001b[0m     sql \u001b[38;5;241m=\u001b[39m sql\u001b[38;5;241m.\u001b[39mencode(\u001b[38;5;28mself\u001b[39m\u001b[38;5;241m.\u001b[39mencoding, \u001b[38;5;124m\"\u001b[39m\u001b[38;5;124msurrogateescape\u001b[39m\u001b[38;5;124m\"\u001b[39m)\n\u001b[0;32m    557\u001b[0m \u001b[38;5;28mself\u001b[39m\u001b[38;5;241m.\u001b[39m_execute_command(COMMAND\u001b[38;5;241m.\u001b[39mCOM_QUERY, sql)\n\u001b[1;32m--> 558\u001b[0m \u001b[38;5;28mself\u001b[39m\u001b[38;5;241m.\u001b[39m_affected_rows \u001b[38;5;241m=\u001b[39m \u001b[38;5;28;43mself\u001b[39;49m\u001b[38;5;241;43m.\u001b[39;49m\u001b[43m_read_query_result\u001b[49m\u001b[43m(\u001b[49m\u001b[43munbuffered\u001b[49m\u001b[38;5;241;43m=\u001b[39;49m\u001b[43munbuffered\u001b[49m\u001b[43m)\u001b[49m\n\u001b[0;32m    559\u001b[0m \u001b[38;5;28;01mreturn\u001b[39;00m \u001b[38;5;28mself\u001b[39m\u001b[38;5;241m.\u001b[39m_affected_rows\n",
      "File \u001b[1;32mc:\\pjt\\env\\Lib\\site-packages\\pymysql\\connections.py:822\u001b[0m, in \u001b[0;36mConnection._read_query_result\u001b[1;34m(self, unbuffered)\u001b[0m\n\u001b[0;32m    820\u001b[0m \u001b[38;5;28;01melse\u001b[39;00m:\n\u001b[0;32m    821\u001b[0m     result \u001b[38;5;241m=\u001b[39m MySQLResult(\u001b[38;5;28mself\u001b[39m)\n\u001b[1;32m--> 822\u001b[0m     \u001b[43mresult\u001b[49m\u001b[38;5;241;43m.\u001b[39;49m\u001b[43mread\u001b[49m\u001b[43m(\u001b[49m\u001b[43m)\u001b[49m\n\u001b[0;32m    823\u001b[0m \u001b[38;5;28mself\u001b[39m\u001b[38;5;241m.\u001b[39m_result \u001b[38;5;241m=\u001b[39m result\n\u001b[0;32m    824\u001b[0m \u001b[38;5;28;01mif\u001b[39;00m result\u001b[38;5;241m.\u001b[39mserver_status \u001b[38;5;129;01mis\u001b[39;00m \u001b[38;5;129;01mnot\u001b[39;00m \u001b[38;5;28;01mNone\u001b[39;00m:\n",
      "File \u001b[1;32mc:\\pjt\\env\\Lib\\site-packages\\pymysql\\connections.py:1200\u001b[0m, in \u001b[0;36mMySQLResult.read\u001b[1;34m(self)\u001b[0m\n\u001b[0;32m   1198\u001b[0m \u001b[38;5;28;01mdef\u001b[39;00m \u001b[38;5;21mread\u001b[39m(\u001b[38;5;28mself\u001b[39m):\n\u001b[0;32m   1199\u001b[0m     \u001b[38;5;28;01mtry\u001b[39;00m:\n\u001b[1;32m-> 1200\u001b[0m         first_packet \u001b[38;5;241m=\u001b[39m \u001b[38;5;28;43mself\u001b[39;49m\u001b[38;5;241;43m.\u001b[39;49m\u001b[43mconnection\u001b[49m\u001b[38;5;241;43m.\u001b[39;49m\u001b[43m_read_packet\u001b[49m\u001b[43m(\u001b[49m\u001b[43m)\u001b[49m\n\u001b[0;32m   1202\u001b[0m         \u001b[38;5;28;01mif\u001b[39;00m first_packet\u001b[38;5;241m.\u001b[39mis_ok_packet():\n\u001b[0;32m   1203\u001b[0m             \u001b[38;5;28mself\u001b[39m\u001b[38;5;241m.\u001b[39m_read_ok_packet(first_packet)\n",
      "File \u001b[1;32mc:\\pjt\\env\\Lib\\site-packages\\pymysql\\connections.py:772\u001b[0m, in \u001b[0;36mConnection._read_packet\u001b[1;34m(self, packet_type)\u001b[0m\n\u001b[0;32m    770\u001b[0m     \u001b[38;5;28;01mif\u001b[39;00m \u001b[38;5;28mself\u001b[39m\u001b[38;5;241m.\u001b[39m_result \u001b[38;5;129;01mis\u001b[39;00m \u001b[38;5;129;01mnot\u001b[39;00m \u001b[38;5;28;01mNone\u001b[39;00m \u001b[38;5;129;01mand\u001b[39;00m \u001b[38;5;28mself\u001b[39m\u001b[38;5;241m.\u001b[39m_result\u001b[38;5;241m.\u001b[39munbuffered_active \u001b[38;5;129;01mis\u001b[39;00m \u001b[38;5;28;01mTrue\u001b[39;00m:\n\u001b[0;32m    771\u001b[0m         \u001b[38;5;28mself\u001b[39m\u001b[38;5;241m.\u001b[39m_result\u001b[38;5;241m.\u001b[39munbuffered_active \u001b[38;5;241m=\u001b[39m \u001b[38;5;28;01mFalse\u001b[39;00m\n\u001b[1;32m--> 772\u001b[0m     \u001b[43mpacket\u001b[49m\u001b[38;5;241;43m.\u001b[39;49m\u001b[43mraise_for_error\u001b[49m\u001b[43m(\u001b[49m\u001b[43m)\u001b[49m\n\u001b[0;32m    773\u001b[0m \u001b[38;5;28;01mreturn\u001b[39;00m packet\n",
      "File \u001b[1;32mc:\\pjt\\env\\Lib\\site-packages\\pymysql\\protocol.py:221\u001b[0m, in \u001b[0;36mMysqlPacket.raise_for_error\u001b[1;34m(self)\u001b[0m\n\u001b[0;32m    219\u001b[0m \u001b[38;5;28;01mif\u001b[39;00m DEBUG:\n\u001b[0;32m    220\u001b[0m     \u001b[38;5;28mprint\u001b[39m(\u001b[38;5;124m\"\u001b[39m\u001b[38;5;124merrno =\u001b[39m\u001b[38;5;124m\"\u001b[39m, errno)\n\u001b[1;32m--> 221\u001b[0m \u001b[43merr\u001b[49m\u001b[38;5;241;43m.\u001b[39;49m\u001b[43mraise_mysql_exception\u001b[49m\u001b[43m(\u001b[49m\u001b[38;5;28;43mself\u001b[39;49m\u001b[38;5;241;43m.\u001b[39;49m\u001b[43m_data\u001b[49m\u001b[43m)\u001b[49m\n",
      "File \u001b[1;32mc:\\pjt\\env\\Lib\\site-packages\\pymysql\\err.py:143\u001b[0m, in \u001b[0;36mraise_mysql_exception\u001b[1;34m(data)\u001b[0m\n\u001b[0;32m    141\u001b[0m \u001b[38;5;28;01mif\u001b[39;00m errorclass \u001b[38;5;129;01mis\u001b[39;00m \u001b[38;5;28;01mNone\u001b[39;00m:\n\u001b[0;32m    142\u001b[0m     errorclass \u001b[38;5;241m=\u001b[39m InternalError \u001b[38;5;28;01mif\u001b[39;00m errno \u001b[38;5;241m<\u001b[39m \u001b[38;5;241m1000\u001b[39m \u001b[38;5;28;01melse\u001b[39;00m OperationalError\n\u001b[1;32m--> 143\u001b[0m \u001b[38;5;28;01mraise\u001b[39;00m errorclass(errno, errval)\n",
      "\u001b[1;31mOperationalError\u001b[0m: (1050, \"Table 'hongdae' already exists\")"
     ]
    }
   ],
   "source": [
    "import pymysql\n",
    "import pandas as pd\n",
    "# import cryptography \n",
    "\n",
    "\n",
    "# create_sql = \"\"\"create table hongdae(\n",
    "# id int auto_increment primary key,\n",
    "# name varchar(20) not null,\n",
    "# address varchar(50) not null,\n",
    "# count int\n",
    "# )\"\"\"  \n",
    "\n",
    "# create_sql = \"\"\"create table yeonnam(\n",
    "# id int auto_increment primary key,\n",
    "# name varchar(20) not null,\n",
    "# address varchar(50) not null,\n",
    "# count int\n",
    "# )\"\"\"  \n",
    "\n",
    "# create_sql = \"\"\"create table hapjeong(\n",
    "# id int auto_increment primary key,\n",
    "# name varchar(20) not null,\n",
    "# address varchar(50) not null,\n",
    "# count int\n",
    "# )\"\"\"  \n",
    "\n",
    "\n",
    "\n",
    "try:\n",
    "    \n",
    "\n",
    "    # 1. Database와 연결.\n",
    "    conn = pymysql.connect(host = \"127.0.0.1\", # DBMS의 ip(host) : str\n",
    "                           port = 3306,        # DBMS의 port 번호 : int\n",
    "                           user = \"root\",  # username : str\n",
    "                           password = \"1111\",  # password : str\n",
    "                           db = \"use_store\"         # 연결할 Database이름 : str\n",
    "    )     \n",
    "    # 연결 성공하면 연결된 DB와 관련 작업을 할 수 있는 기능을 제공하는 Connection객체를 반환\n",
    "    print(type(conn))\n",
    "    \n",
    "    # 2. Connection을 사용해서 Cursor 객체 생성\n",
    "    #    Cursor: sql 처리를 하는 기능을 제공한다(sql전송, 처리결과를 받을 때 까지를 관리)\n",
    "    cursor = conn.cursor()\n",
    "    print(type(cursor))\n",
    "    \n",
    "    # SQL문 전송 + 처리결과 받기\n",
    "    \n",
    "    result = cursor.execute(create_sql)\n",
    "    print(\"처리결과\", result)\n",
    "finally:\n",
    "# 4. 연결닫기(끊기)\n",
    "    if conn:\n",
    "        cursor.close()  # 4-1. cursor 연결 닫기\n",
    "        conn.close()    # 4-2. connection 연결 닫기"
   ]
  },
  {
   "cell_type": "code",
   "execution_count": null,
   "metadata": {},
   "outputs": [
    {
     "ename": "SyntaxError",
     "evalue": "invalid syntax (431000005.py, line 6)",
     "output_type": "error",
     "traceback": [
      "\u001b[1;36m  Cell \u001b[1;32mIn[29], line 6\u001b[1;36m\u001b[0m\n\u001b[1;33m    def read_csv_file(march_week4_Hondae.csv):\u001b[0m\n\u001b[1;37m                                        ^\u001b[0m\n\u001b[1;31mSyntaxError\u001b[0m\u001b[1;31m:\u001b[0m invalid syntax\n"
     ]
    }
   ],
   "source": [
    "\n",
    "import pymysql\n",
    "import csv\n",
    "import os\n",
    "#------------------------------------------------------------------------------------------------------------------------------------------------------------------------------------\n",
    "# csv 파일 읽기\n",
    "def read_csv_file(march_week4_Hondae.csv):\n",
    "    data = []\n",
    "    file_path = os.path.join(r\"C:\\pjt\", march_week4_Hondae.csv)\n",
    "    with open(file_path, 'r', encoding = 'utf-8') as file:\n",
    "        csv_reader = csv.reader(file)\n",
    "        next(csv_reader)\n",
    "        for row in csv_reader:\n",
    "            data.append(row)\n",
    "        return data\n",
    "    \n",
    "#------------------------------------------------------------------------------------------------------------------------------------------------------------------------------------\n",
    "# MySQL 데이터베이스 연결\n",
    "# conn = pymysql.connect(host=\"127.0.0.1\",\n",
    "#                        port = 3306\n",
    "#                        user='root',\n",
    "#                        password='1111',\n",
    "#                        db='use_store',\n",
    "#                        charset='utf8mb4')\n",
    "#-------------------------------------------------------------------------------------------------------------------------------------------------------------------------------------\n",
    "# 커서 객체 생성\n",
    "# cursor = conn.cursor()\n",
    "\n",
    "# CSV 파일 읽기\n",
    "data = read_csv_file(march_week4_Hondae.csv)\n",
    "#-------------------------------------------------------------------------------------------------------------------------------------------------------------------------------------\n",
    "# 테이블 생성\n",
    "# create_table_query = \"\"\"\n",
    "# CREATE TABLE IF NOT EXISTS your_table_name (\n",
    "#     name VARCHAR(255),\n",
    "#     address VARCHAR(255),\n",
    "#     count INT,\n",
    "#     sympathy INT\n",
    "# );\n",
    "# \"\"\"\n",
    "\n",
    "# cursor.execute(create_table_query)\n",
    "#--------------------------------------------------------------------------------------------------------------------------------------------------------------------------------------\n",
    "# 데이터 삽입\n",
    "for row in data:\n",
    "    name, address, count = row\n",
    "    count = int(count)\n",
    "    insert_query = \"INSERT INTO hapjeong (id, name, address, count) VALUES (%s, %s, %s, %s)\"\n",
    "    cursor.execute(insert_query, (id, name, address, count))\n",
    "\n",
    "# 변경사항 커밋\n",
    "conn.commit()\n",
    "\n",
    "# 커서 및 연결 종료\n",
    "cursor.close()\n",
    "conn.close()\n",
    "#---------------------------------------------------------------------------------------------------------------------------------------------------------------------------------------\n",
    "print(\"Data inserted successfully!\")"
   ]
  },
  {
   "cell_type": "code",
   "execution_count": 50,
   "metadata": {},
   "outputs": [],
   "source": [
    "import pymysql\n",
    "import csv\n",
    "import os\n",
    "\n",
    "# CSV 파일 읽기\n",
    "def read_csv_file(march_week4_Hondae):\n",
    "    data = []\n",
    "    file_path = os.path.join(r\"C:\\pjt\", march_week4_Hondae)\n",
    "    with open(file_path, 'r', encoding='cp949') as file:\n",
    "        csv_reader = csv.reader(file)\n",
    "        next(csv_reader)\n",
    "        for row in csv_reader:\n",
    "            data.append(row)\n",
    "    return data\n",
    "\n",
    "# MySQL 데이터베이스 연결\n",
    "conn = pymysql.connect(host=\"127.0.0.1\",\n",
    "                       port=3306,\n",
    "                       user='root',\n",
    "                       password='1111',\n",
    "                       db='use_store',\n",
    "                       charset='')\n",
    "\n",
    "# 커서 객체 생성\n",
    "cursor = conn.cursor()\n",
    "\n",
    "# CSV 파일 읽기\n",
    "data = read_csv_file(\"march_week4_Hondae.csv\")\n"
   ]
  },
  {
   "cell_type": "code",
   "execution_count": 52,
   "metadata": {},
   "outputs": [
    {
     "name": "stdout",
     "output_type": "stream",
     "text": [
      "<class 'list'>\n",
      "[['0', '마담풍천 합정', '서울특별시 마포구 독막로6길 8 1층 마담풍천', '1'], ['1', '간코 합정본점', '서울특별시 마포구 양화로3길 15 1층', '3'], ['2', '키츠스키야키', '서울특별시 마포구 양화로7길 6-5 1층 키츠스키야키', '2'], ['3', '멘야유메미루 합정점', '서울특별시 마포구 성지길 48 1층', '6'], ['4', '스파카나폴리 합정', '서울특별시 마포구 양화로6길 28 2층', '1'], ['5', '이리에라멘', '서울특별시 마포구 성지1길 18 1층', '2'], ['6', '명현만간장게장무한리필', '서울특별시 마포구 양화로 45 메세나폴리스 123호~129호', '2'], ['7', '백두한우곱창', '서울특별시 마포구 월드컵로1길 14 1층 B119호', '1'], ['8', '범상 스프커리 합정점', '서울특별시 마포구 포은로2가길 65 B동 1층 102호', '4'], ['9', '상곱창', '서울특별시 마포구 월드컵로 41-1 1층', '1'], ['10', '각시보쌈', '서울특별시 마포구 성지길 25 보광빌딩', '1'], ['11', '담택', '서울특별시 마포구 월드컵로8길 34 1층', '1'], ['12', '포36거리 홍대점', '서울특별시 마포구 독막로3길 29 화이트하우스 1층', '3'], ['13', '라라본국마라탕 본점', '서울특별시 마포구 월드컵로 45-1 2층', '2'], ['14', '독대', '서울특별시 마포구 양화로16길 14 1층', '2'], ['15', '커리지널', '서울특별시 마포구 잔다리로7안길 3 1층 커리지널', '1'], ['16', '카와카츠 합정점', '서울특별시 마포구 양화로 78-7 1층 카와카츠', '2'], ['17', '로우샹로우', '서울특별시 마포구 양화로6길 50 1층', '3'], ['18', '사치쌀국수', '서울특별시 마포구 포은로2나길 44 1층 사치쌀국수', '5'], ['19', '마포오리농장', '서울특별시 마포구 양화로 58 명지빌드웰 1층 마포 오리농장', '3'], ['20', '돼지전 합정점', '서울특별시 마포구 양화로1길 25-3 1층', '3'], ['21', '옥동식', '서울특별시 마포구 양화로7길 44-10', '2'], ['22', '아키야라멘', '서울특별시 마포구 토정로 39-3 1층 아키야라멘', '1'], ['23', '블러', '서울특별시 마포구 토정로 28-10 4층', '2'], ['24', '오레노라멘 본점', '서울특별시 마포구 독막로6길 14', '2'], ['25', '델리인디아', '서울특별시 마포구 독막로9길 8 2층', '2'], ['26', '동꾼', '서울특별시 마포구 동교로22길 19 1층 좌측 동꾼', '1'], ['27', '와쇼쿠섭', '서울특별시 마포구 양화로3길 10 2층', '2'], ['28', '기요한', '서울특별시 마포구 동교로12길 3 1층기요한', '1'], ['29', '후쿠란 상수본점', '서울특별시 마포구 와우산로3안길 2 1층일부,2층 후쿠란', '2'], ['30', '합정 지튼', '서울특별시 마포구 양화로11길 42 1층', '1'], ['31', '정미', '서울특별시 마포구 양화로 45 몰동 1층 176호', '10'], ['32', '콘드', '서울특별시 마포구 월드컵로3길 32 2층', '1'], ['33', '폴베리', '서울특별시 마포구 포은로 40 1층 왼쪽', '2'], ['34', '우미담 서교본점', '서울특별시 마포구 잔다리로 78 1층 우미담', '1'], ['35', '새벽숯불가든', '서울특별시 마포구 양화로1길 38 대운행복아파트', '1'], ['36', '큐슈방', '서울특별시 마포구 독막로3길 18 2층 201호', '1'], ['37', '몽주방', '서울특별시 마포구 독막로7길 20 1층', '1'], ['38', '남북통일', '서울특별시 마포구 동교로18길 37', '1'], ['39', '국제양식', '서울특별시 마포구 양화로1길 38 대운행복아파트 1층 102호', '2'], ['40', '아우룸', '서울특별시 마포구 월드컵로5길 33-26', '16'], ['41', '빠넬로', '서울특별시 마포구 어울마당로5길 29', '1'], ['42', '가츠신 본점', '서울특별시 마포구 독막로2길 22 1층', '1'], ['43', '르파르', '서울특별시 마포구 성지길 35 덕양빌딩 1층 르파르', '1'], ['44', '히게쯔라', '서울특별시 마포구 양화로1길 42 1층', '2'], ['45', '도돌곱창전골', '서울특별시 마포구 월드컵로3길 31-4 1층 101호', '2'], ['46', '피그바 합정점', '서울특별시 마포구 독막로3길 28-7 1층', '1'], ['47', '합정고깃집', '서울특별시 마포구 양화로1길 21', '2'], ['48', '어부블루스 합정', '서울특별시 마포구 양화로6길 21 별관 1층', '2'], ['49', '우삼촌카레 홍대점', '서울특별시 마포구 잔다리로3안길 24 1층 우삼촌카레', '1'], ['50', '고기꾼김춘배 홍대본점', '서울특별시 마포구 홍익로3길 36 3층', '1'], ['51', '선비다이닝', '서울특별시 마포구 독막로3길 29 2층', '1'], ['52', '23플래터', '서울특별시 마포구 잔다리로3안길 36 1층 23플래터', '1'], ['53', '미스타교자 미니합정점', '서울특별시 마포구 월드컵로1길 54', '1'], ['54', '마포소금구이', '서울특별시 마포구 양화로 27', '1'], ['55', '소풍가는날', '서울특별시 마포구 독막로 41 102호 소풍가는날', '1'], ['56', '수림식당 홍대점', '서울특별시 마포구 와우산로21길 19-19 1층', '1'], ['57', '카레시', '서울특별시 마포구 독막로9길 31 1층', '1'], ['58', '몽주막', '서울특별시 마포구 독막로9길 12 1층 몽주막', '1'], ['59', '발리 슈퍼스토어', '서울특별시 마포구 양화로6길 45 2층', '2'], ['60', '따로집', '서울특별시 마포구 독막로 4 2층', '1'], ['61', '다노', '서울특별시 마포구 어울마당로5길 35 1층', '1'], ['62', '해옫 합정', '서울특별시 마포구 독막로8길 30 1층', '1'], ['63', '토끼다이닝', '서울특별시 마포구 독막로5길 5 2층', '3'], ['64', '빌리프커피로스터스', '서울특별시 마포구 양화로11길 50 해동빌딩 1층~지하1층', '1'], ['65', '로로11', '서울특별시 마포구 어울마당로5길 42 roro11', '1'], ['66', '양화로 1984', '서울특별시 마포구 양화로 27 1층 양화로1984', '3'], ['67', '스키야키201', '서울특별시 마포구 양화로6길 10 2층', '1'], ['68', '그늘 합정본점', '서울특별시 마포구 독막로3길 33-3 지1층 그늘', '1'], ['69', '해몽 마포점', '서울특별시 마포구 양화로6길 65 1층', '1'], ['70', '독타운피자', '서울특별시 마포구 양화로6길 48 2층', '1'], ['71', '금성회관 합정본점', '서울특별시 마포구 양화로6길 78 1층', '3'], ['72', '우동 카덴', '서울특별시 마포구 양화로7안길 2-1', '1'], ['73', '오코뎅', '서울특별시 마포구 독막로3길 21 101호', '2'], ['74', '라라와 케이', '서울특별시 마포구 토정로 28-8 1층 1호', '9'], ['75', '너구리베이글 합정점', '서울특별시 마포구 양화로6길 49 1층', '1'], ['76', '카에루', '서울특별시 마포구 양화로1길 31 우진빌딩', '1'], ['77', '화류', '서울특별시 마포구 성지5길 19 1층', '1'], ['78', '콩청대', '서울특별시 마포구 포은로 29-1', '1'], ['79', '쿠시로지', '서울특별시 마포구 포은로2가길 65 B동 1층 3호', '1'], ['80', '비볼리 합정', '서울특별시 마포구 독막로 31-3 2F 비볼리 합정', '2'], ['81', '히야포차', '서울특별시 마포구 양화로6길 57-10 1층', '1'], ['82', '은하루', '서울특별시 마포구 월드컵로3길 56', '1'], ['83', '지즐 한우 오마카세 합정점', '서울특별시 마포구 양화로 19 지하1층 B103호', '1'], ['84', '스케줄합정', '서울특별시 마포구 양화로6길 33 1층', '1'], ['85', '산오징어양푼무침', '서울특별시 마포구 잔다리로6길 20-6 지하1층', '1'], ['86', '야키토리 나루토 오모테나시', '서울특별시 마포구 독막로5길 17 1층 나루토 오모테나시', '1'], ['87', '침사추이누들', '서울특별시 마포구 어울마당로5길 31', '1'], ['88', '가든포에트', '서울특별시 마포구 와우산로14길 12 가든 포에트', '1'], ['89', '베이코닉 누들바', '서울특별시 마포구 월드컵로17길 50 B1', '1'], ['90', '해피베어데이 합정 본점', '서울특별시 마포구 양화로12길 16-6 1층', '1'], ['91', '텐무스봉봉 나베모토야', '서울특별시 마포구 독막로 46 1층', '1'], ['92', '브루하임', '서울특별시 마포구 양화로10길 36 브루하임', '1'], ['93', '멕시코식당 2호점 멕시코다이너', '서울특별시 마포구 토정로3안길 33 1층 멕시코다이너', '1'], ['94', '최강금돈까스', '서울특별시 마포구 월드컵로3길 31-30', '1'], ['95', '웃사브', '서울특별시 마포구 와우산로11길 10 1,2층', '1'], ['96', '미필담', '서울특별시 마포구 성지3길 22 1층 좌측 미필담', '1'], ['97', '포비 베이직 합정', '서울특별시 마포구 양화로3길 66', '1'], ['98', '보승회관 합정점', '서울특별시 마포구 양화로 73-1 이스턴빌딩 1층', '1'], ['99', '명륜진사갈비 서울 합정점', '서울특별시 마포구 독막로 17 1층', '1'], ['100', '스아게', '서울특별시 마포구 와우산로29라길 7 1층', '1'], ['101', '오마카세 코바시', '서울특별시 마포구 양화로1길 25-3 지층', '1'], ['102', '남고집 합정', '서울특별시 마포구 월드컵로1길 7 1층', '1'], ['103', '을왕리꾸덕집 합정직영점', '서울특별시 마포구 월드컵로3길 14 딜라이트스퀘어2 지하1층', '1'], ['104', '멕시코식당', '서울특별시 마포구 독막로2길 23', '1'], ['105', '미분당 합정점', '서울특별시 마포구 독막로 39 1층', '1'], ['106', '수택', '서울특별시 마포구 양화로7길 4-13 1층', '1'], ['107', '뉴욕아파트먼트', '서울특별시 마포구 월드컵로3길 14 마포한강2차푸르지오상가 217호', '1'], ['108', '윤멘', '서울특별시 마포구 포은로 27', '1'], ['109', '더기와 합정점', '서울특별시 마포구 독막로3길 25 1층', '2'], ['110', '풍류각', '서울특별시 마포구 월드컵로 33 1층', '1'], ['111', '델리카테슨', '서울특별시 마포구 토정로3길 19 1층', '1'], ['112', '크리스피프레시 합정점', '서울특별시 마포구 월드컵로3길 14 딜라이트스퀘어 2차 지하1층', '1']]\n"
     ]
    }
   ],
   "source": [
    "print(type(data))\n",
    "print(data)"
   ]
  },
  {
   "cell_type": "code",
   "execution_count": null,
   "metadata": {},
   "outputs": [],
   "source": [
    "\n",
    "# 데이터 삽입\n",
    "for row in data:\n",
    "    print(type(row), row)\n",
    "    name = row[1]\n",
    "    address = row[2]\n",
    "    count = int(row[3])\n",
    "    insert_query = \"INSERT INTO hapjeong (name, address, count) VALUES (%s, %s, %s)\"\n",
    "    cursor.execute(insert_query, (name, address, count))\n",
    "\n",
    "# 변경사항 커밋\n",
    "conn.commit()\n",
    "\n",
    "# 커서 및 연결 종료\n",
    "cursor.close()\n",
    "conn.close()\n",
    "\n",
    "print(\"Data inserted successfully!\")"
   ]
  }
 ],
 "metadata": {
  "kernelspec": {
   "display_name": "env",
   "language": "python",
   "name": "python3"
  },
  "language_info": {
   "codemirror_mode": {
    "name": "ipython",
    "version": 3
   },
   "file_extension": ".py",
   "mimetype": "text/x-python",
   "name": "python",
   "nbconvert_exporter": "python",
   "pygments_lexer": "ipython3",
   "version": "3.11.8"
  }
 },
 "nbformat": 4,
 "nbformat_minor": 2
}
