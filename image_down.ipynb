{
 "cells": [
  {
   "cell_type": "code",
   "execution_count": 6,
   "metadata": {},
   "outputs": [
    {
     "name": "stdout",
     "output_type": "stream",
     "text": [
      "Image downloaded: downloaded_image.jpg\n",
      "Location information not found.\n"
     ]
    }
   ],
   "source": [
    "import requests\n",
    "from bs4 import BeautifulSoup\n",
    "\n",
    "def download_instagram_image(post_url, filename):\n",
    "    # 인스타그램 게시물 페이지에서 HTML 소스코드 가져오기\n",
    "    response = requests.get(post_url)\n",
    "    html = response.text\n",
    "\n",
    "    # BeautifulSoup 객체 생성\n",
    "    soup = BeautifulSoup(html, 'lxml')\n",
    "\n",
    "    # 이미지 태그 찾기\n",
    "    img_tag = soup.find('meta', property='og:image')\n",
    "    \n",
    "    if img_tag:\n",
    "        image_url = img_tag['content']\n",
    "        \n",
    "        # 이미지 다운로드\n",
    "        img_data = requests.get(image_url).content\n",
    "        with open(filename, 'wb') as handler:\n",
    "            handler.write(img_data)\n",
    "        print(f\"Image downloaded: {filename}\")\n",
    "\n",
    "        # 게시물 위치 정보 추출\n",
    "        location_tag = soup.find('meta', property='place:location:latitude')\n",
    "        if location_tag:\n",
    "            latitude = location_tag['content']\n",
    "            longitude_tag = soup.find('meta', property='place:location:longitude')\n",
    "            longitude = longitude_tag['content']\n",
    "            print(f\"Location: Latitude {latitude}, Longitude {longitude}\")\n",
    "        else:\n",
    "            print(\"Location information not found.\")\n",
    "    else:\n",
    "        print(\"Image URL not found.\")\n",
    "\n",
    "# 인스타그램 게시물 URL\n",
    "post_url = 'https://www.instagram.com/p/C5AlfZ6y89p/?img_index=1'\n",
    "\n",
    "# 이미지를 저장할 파일명\n",
    "filename = 'downloaded_image.jpg'\n",
    "\n",
    "# 이미지 다운로드 함수 호출\n",
    "download_instagram_image(post_url, filename)"
   ]
  }
 ],
 "metadata": {
  "kernelspec": {
   "display_name": "env",
   "language": "python",
   "name": "python3"
  },
  "language_info": {
   "codemirror_mode": {
    "name": "ipython",
    "version": 3
   },
   "file_extension": ".py",
   "mimetype": "text/x-python",
   "name": "python",
   "nbconvert_exporter": "python",
   "pygments_lexer": "ipython3",
   "version": "3.11.8"
  }
 },
 "nbformat": 4,
 "nbformat_minor": 2
}
